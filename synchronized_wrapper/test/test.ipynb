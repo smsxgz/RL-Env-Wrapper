{
 "cells": [
  {
   "cell_type": "code",
   "execution_count": 1,
   "metadata": {
    "collapsed": false,
    "scrolled": true
   },
   "outputs": [],
   "source": [
    "import os\n",
    "import sys\n",
    "sys.path.insert(0, '../../')"
   ]
  },
  {
   "cell_type": "code",
   "execution_count": 2,
   "metadata": {
    "collapsed": true
   },
   "outputs": [],
   "source": [
    "import gym\n",
    "import numpy as np"
   ]
  },
  {
   "cell_type": "markdown",
   "metadata": {},
   "source": [
    "Mujoco Wrappers test"
   ]
  },
  {
   "cell_type": "code",
   "execution_count": 3,
   "metadata": {
    "collapsed": false
   },
   "outputs": [],
   "source": [
    "from synchronized_wrapper.mujoco_wrapper import mujoco_env"
   ]
  },
  {
   "cell_type": "code",
   "execution_count": 4,
   "metadata": {
    "collapsed": false
   },
   "outputs": [
    {
     "name": "stdout",
     "output_type": "stream",
     "text": [
      "\u001b[33mWARN: gym.spaces.Box autodetected dtype as <class 'numpy.float32'>. Please provide explicit dtype.\u001b[0m\n",
      "\u001b[33mWARN: gym.spaces.Box autodetected dtype as <class 'numpy.float32'>. Please provide explicit dtype.\u001b[0m\n",
      "\u001b[33mWARN: gym.spaces.Box autodetected dtype as <class 'numpy.float32'>. Please provide explicit dtype.\u001b[0m\n",
      "\u001b[33mWARN: gym.spaces.Box autodetected dtype as <class 'numpy.float32'>. Please provide explicit dtype.\u001b[0m\n",
      "action_space\n",
      "1.0 -1.0 (17,)\n",
      "0.4 -0.4 (17,)\n",
      "observation_space\n",
      "inf -inf (1880,)\n",
      "inf -inf (376,)\n"
     ]
    }
   ],
   "source": [
    "game_id = 'HumanoidStandup-v2'\n",
    "stack = 5\n",
    "env = mujoco_env(game_id, stack=stack)\n",
    "gym_env = gym.make(game_id)\n",
    "\n",
    "print('action_space')\n",
    "print(env.action_space.high[0], env.action_space.low[0], env.action_space.shape)\n",
    "print(gym_env.action_space.high[0], gym_env.action_space.low[0], gym_env.action_space.shape) \n",
    "\n",
    "print('observation_space')\n",
    "print(env.observation_space.high[0], env.observation_space.low[0], env.observation_space.shape)\n",
    "print(gym_env.observation_space.high[0], gym_env.observation_space.low[0], gym_env.observation_space.shape)\n",
    "assert env.observation_space.shape[0] == stack * gym_env.observation_space.shape[0]\n",
    "\n",
    "assert env.observation_space.contains(env.reset())\n",
    "while True:\n",
    "    s, r, d, _ = env.step(np.random.uniform(low=-1.0, high=1.0, size=env.action_space.shape[0]))\n",
    "    assert env.observation_space.contains(s)\n",
    "    if d:\n",
    "        break\n",
    "\n",
    "env.close()\n",
    "gym_env.close()"
   ]
  },
  {
   "cell_type": "code",
   "execution_count": null,
   "metadata": {
    "collapsed": true
   },
   "outputs": [],
   "source": []
  },
  {
   "cell_type": "markdown",
   "metadata": {
    "collapsed": true
   },
   "source": [
    "Atari Wrappers test (just test for RewardClipEnv)"
   ]
  },
  {
   "cell_type": "code",
   "execution_count": 5,
   "metadata": {
    "collapsed": true
   },
   "outputs": [],
   "source": [
    "from synchronized_wrapper.atari_wrapper import atari_env"
   ]
  },
  {
   "cell_type": "code",
   "execution_count": 6,
   "metadata": {
    "collapsed": false
   },
   "outputs": [
    {
     "name": "stdout",
     "output_type": "stream",
     "text": [
      "{'real_reward': 0.0, 'was_real_done': False, 'ale.lives': 2}\n",
      "{'real_reward': 0.0, 'was_real_done': False, 'ale.lives': 1}\n",
      "{'real_reward': 0.0, 'was_real_done': True, 'ale.lives': 0}\n",
      "10.0 440.0\n"
     ]
    }
   ],
   "source": [
    "game_id = 'BeamRiderNoFrameskip-v4'\n",
    "env = atari_env(game_id)\n",
    "\n",
    "allowed_actions = list(range(env.action_space.n))\n",
    "\n",
    "env.reset()\n",
    "reward = 0\n",
    "real_reward = 0\n",
    "while True:\n",
    "    s, r, d, info = env.step(np.random.choice(allowed_actions))\n",
    "    \n",
    "    assert 'was_real_done' in info\n",
    "    assert 'real_reward' in info\n",
    "    assert r in [-1.0, 0.0, 1.0]\n",
    "    \n",
    "    reward += r\n",
    "    real_reward += info['real_reward']\n",
    "    if d:\n",
    "        print(info)\n",
    "        if info['was_real_done']:\n",
    "            print(reward, real_reward)\n",
    "            break\n",
    "\n",
    "env.close()"
   ]
  },
  {
   "cell_type": "code",
   "execution_count": null,
   "metadata": {
    "collapsed": false
   },
   "outputs": [],
   "source": []
  },
  {
   "cell_type": "markdown",
   "metadata": {
    "collapsed": true
   },
   "source": [
    "Agent test"
   ]
  },
  {
   "cell_type": "code",
   "execution_count": 7,
   "metadata": {
    "collapsed": false
   },
   "outputs": [
    {
     "name": "stderr",
     "output_type": "stream",
     "text": [
      "Process STDOUT and STDERR is being redirected to /tmp/raylogs/.\n",
      "Waiting for redis server at 127.0.0.1:65277 to respond...\n",
      "Waiting for redis server at 127.0.0.1:24875 to respond...\n",
      "Starting local scheduler with the following resources: {'CPU': 32, 'GPU': 4}.\n",
      "\n",
      "======================================================================\n",
      "View the web UI at http://localhost:8894/notebooks/ray_ui15175.ipynb?token=a5150d899d1f5256c75a92855ba0496473ebc55cd9ae48f2\n",
      "======================================================================\n",
      "\n"
     ]
    }
   ],
   "source": [
    "from synchronized_wrapper.atari_wrapper import get_atari_env_fn\n",
    "from synchronized_wrapper.mujoco_wrapper import get_mujoco_env_fn\n",
    "from synchronized_wrapper.agent import Agent"
   ]
  },
  {
   "cell_type": "code",
   "execution_count": 11,
   "metadata": {
    "collapsed": false
   },
   "outputs": [
    {
     "name": "stdout",
     "output_type": "stream",
     "text": [
      "All subagents are ready! \n",
      "action_n:  9\n",
      "observation_space\n",
      "1.0 0.0 (8, 84, 84, 4) float32\n"
     ]
    }
   ],
   "source": [
    "env_fn = get_atari_env_fn('BeamRiderNoFrameskip-v4')\n",
    "num_agents = 8\n",
    "\n",
    "env = Agent(num_agents=num_agents, env_fn=env_fn, basename='test')\n",
    "\n",
    "print('action_n: ', env.action_space.n)\n",
    "\n",
    "print('observation_space')\n",
    "assert env.observation_space.shape == (num_agents, 84, 84, 4)\n",
    "print(env.observation_space.high[0,0,0,0], env.observation_space.low[0,0,0,0], env.observation_space.shape, env.observation_space.dtype)\n",
    "\n",
    "assert env.reset().shape == (num_agents, 84, 84, 4)\n",
    "\n",
    "env.close()\n",
    "# env = Agent(num_agents=num_agents, env_fn=env_fn, basename='test')\n",
    "# env.close()"
   ]
  },
  {
   "cell_type": "code",
   "execution_count": null,
   "metadata": {
    "collapsed": false
   },
   "outputs": [],
   "source": []
  },
  {
   "cell_type": "code",
   "execution_count": null,
   "metadata": {
    "collapsed": true
   },
   "outputs": [],
   "source": []
  },
  {
   "cell_type": "code",
   "execution_count": null,
   "metadata": {
    "collapsed": true
   },
   "outputs": [],
   "source": []
  },
  {
   "cell_type": "code",
   "execution_count": 9,
   "metadata": {
    "collapsed": false
   },
   "outputs": [
    {
     "data": {
      "text/plain": [
       "array([[1, 2],\n",
       "       [1, 2],\n",
       "       [1, 2],\n",
       "       [1, 2]])"
      ]
     },
     "execution_count": 9,
     "metadata": {},
     "output_type": "execute_result"
    }
   ],
   "source": [
    "np.repeat([np.array([1,2])], 4, axis=0)"
   ]
  },
  {
   "cell_type": "code",
   "execution_count": null,
   "metadata": {
    "collapsed": true
   },
   "outputs": [],
   "source": []
  },
  {
   "cell_type": "code",
   "execution_count": null,
   "metadata": {
    "collapsed": true
   },
   "outputs": [],
   "source": []
  },
  {
   "cell_type": "code",
   "execution_count": null,
   "metadata": {
    "collapsed": true
   },
   "outputs": [],
   "source": []
  },
  {
   "cell_type": "code",
   "execution_count": null,
   "metadata": {
    "collapsed": true
   },
   "outputs": [],
   "source": []
  },
  {
   "cell_type": "code",
   "execution_count": null,
   "metadata": {
    "collapsed": true
   },
   "outputs": [],
   "source": []
  },
  {
   "cell_type": "code",
   "execution_count": null,
   "metadata": {
    "collapsed": true
   },
   "outputs": [],
   "source": []
  },
  {
   "cell_type": "code",
   "execution_count": null,
   "metadata": {
    "collapsed": true
   },
   "outputs": [],
   "source": []
  },
  {
   "cell_type": "code",
   "execution_count": null,
   "metadata": {
    "collapsed": true
   },
   "outputs": [],
   "source": []
  }
 ],
 "metadata": {
  "anaconda-cloud": {},
  "kernelspec": {
   "display_name": "Python [conda env:anaconda3]",
   "language": "python",
   "name": "conda-env-anaconda3-py"
  },
  "language_info": {
   "codemirror_mode": {
    "name": "ipython",
    "version": 3
   },
   "file_extension": ".py",
   "mimetype": "text/x-python",
   "name": "python",
   "nbconvert_exporter": "python",
   "pygments_lexer": "ipython3",
   "version": "3.5.4"
  }
 },
 "nbformat": 4,
 "nbformat_minor": 1
}
